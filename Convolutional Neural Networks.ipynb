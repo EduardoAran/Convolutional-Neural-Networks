{
 "cells": [
  {
   "cell_type": "code",
   "execution_count": null,
   "metadata": {},
   "outputs": [],
   "source": [
    "import tensorflow as tf\n",
    "from tensorflow.keras.layers import Input, Conv2D, MaxPooling2D, Flatten, Dense\n",
    "from tensorflow.keras.models import Model\n",
    "\n",
    "def create_baseline_model():\n",
    "    input_img = Input(shape=(32, 32, 3))\n",
    "    x = Conv2D(32, (3, 3), activation='relu')(input_img)\n",
    "    x = MaxPooling2D((2, 2))(x)\n",
    "    x = Flatten()(x)\n",
    "    x = Dense(128, activation='relu')(x)\n",
    "    output = Dense(10, activation='softmax')(x)\n",
    "    model = Model(inputs=input_img, outputs=output)\n",
    "    model.compile(optimizer='adam', loss='sparse_categorical_crossentropy', metrics=['accuracy'])\n",
    "    return model\n",
    "\n",
    "# Cargar datos\n",
    "(train_images, train_labels), (test_images, test_labels) = tf.keras.datasets.cifar10.load_data()\n",
    "train_images, test_images = train_images / 255.0, test_images / 255.0\n",
    "\n",
    "# Crear y entrenar el modelo\n",
    "model = create_baseline_model()\n",
    "history = model.fit(train_images, train_labels, epochs=10, validation_data=(test_images, test_labels))\n",
    "\n"
   ]
  },
  {
   "cell_type": "code",
   "execution_count": null,
   "metadata": {},
   "outputs": [],
   "source": [
    "def create_modified_model():\n",
    "    input_img = Input(shape=(32, 32, 3))\n",
    "    x = Conv2D(64, (3, 3), activation='relu')(input_img)  # Aumento en el número de filtros\n",
    "    x = MaxPooling2D((2, 2))(x)\n",
    "    x = Conv2D(64, (3, 3), activation='relu')(x)  # Capa convolucional adicional\n",
    "    x = MaxPooling2D((2, 2))(x)\n",
    "    x = tf.keras.layers.Dropout(0.25)(x)  # Capa de Dropout\n",
    "    x = Flatten()(x)\n",
    "    x = Dense(256, activation='relu')(x)  # Aumento de neuronas en la capa densa\n",
    "    x = tf.keras.layers.Dropout(0.5)(x)  # Dropout antes de la capa de salida\n",
    "    output = Dense(10, activation='softmax')(x)\n",
    "    model = Model(inputs=input_img, outputs=output)\n",
    "    model.compile(optimizer='adam', loss='sparse_categorical_crossentropy', metrics=['accuracy'])\n",
    "    return model\n",
    "\n",
    "# Crear y entrenar el modelo modificado\n",
    "model_modified = create_modified_model()\n",
    "history_modified = model_modified.fit(train_images, train_labels, epochs=10, validation_data=(test_images, test_labels))"
   ]
  },
  {
   "cell_type": "code",
   "execution_count": null,
   "metadata": {},
   "outputs": [],
   "source": [
    "def train_with_hyperparameters(lr, batch_size, epochs):\n",
    "    model = create_baseline_model()\n",
    "    model.compile(optimizer=tf.keras.optimizers.Adam(learning_rate=lr),\n",
    "                  loss='sparse_categorical_crossentropy', metrics=['accuracy'])\n",
    "    history = model.fit(train_images, train_labels, batch_size=batch_size, epochs=epochs,\n",
    "                        validation_data=(test_images, test_labels))\n",
    "    test_loss, test_acc = model.evaluate(test_images, test_labels)\n",
    "    return test_acc\n",
    "\n",
    "# Prueba diferentes hiperparámetros\n",
    "learning_rates = [0.001, 0.01, 0.0001]\n",
    "batch_sizes = [32, 64, 128]\n",
    "epoch_options = [10, 20]\n",
    "\n",
    "results = []\n",
    "for lr in learning_rates:\n",
    "    for batch in batch_sizes:\n",
    "        for epoch in epoch_options:\n",
    "            accuracy = train_with_hyperparameters(lr, batch, epoch)\n",
    "            results.append((lr, batch, epoch, accuracy))\n",
    "            print(f\"LR: {lr}, Batch: {batch}, Epochs: {epoch}, Accuracy: {accuracy}\")"
   ]
  }
 ],
 "metadata": {
  "kernelspec": {
   "display_name": "Python 3",
   "language": "python",
   "name": "python3"
  },
  "language_info": {
   "codemirror_mode": {
    "name": "ipython",
    "version": 3
   },
   "file_extension": ".py",
   "mimetype": "text/x-python",
   "name": "python",
   "nbconvert_exporter": "python",
   "pygments_lexer": "ipython3",
   "version": "3.12.3"
  }
 },
 "nbformat": 4,
 "nbformat_minor": 2
}
